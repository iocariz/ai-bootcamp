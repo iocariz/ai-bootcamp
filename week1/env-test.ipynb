{
 "cells": [
  {
   "cell_type": "code",
   "execution_count": 1,
   "id": "79ffbdb4-3835-46da-ae1f-0cd41723aa88",
   "metadata": {},
   "outputs": [],
   "source": [
    "from openai import OpenAI"
   ]
  },
  {
   "cell_type": "code",
   "execution_count": 5,
   "id": "5fe8f391-46bb-42ae-a431-0742c2dfd281",
   "metadata": {},
   "outputs": [],
   "source": [
    "openai_client = OpenAI()"
   ]
  },
  {
   "cell_type": "code",
   "execution_count": 8,
   "id": "a8b2e1a7-0d59-4e18-8abd-0e811dbcb3b9",
   "metadata": {
    "scrolled": true
   },
   "outputs": [
    {
     "name": "stdout",
     "output_type": "stream",
     "text": [
      "### Luna the Gentle Unicorn\n",
      "\n",
      "Once upon a time, in the magical Land of Everbright, there lived a gentle unicorn named Luna. Her coat sparkled like starlight, and her mane flowed like soft clouds drifting across a twilight sky. Luna had a beautiful, shimmering horn that glowed with a soft silver light.\n",
      "\n",
      "Every night, as the sun dipped below the horizon, Luna would wander through the enchanted forest, her favorite place filled with twinkling flowers and whispering breezes. The creatures of the forest adored her, and they would gather to hear her stories of magic and adventure.\n",
      "\n",
      "One evening, while exploring a hidden glade, Luna stumbled upon a small, frightened rabbit named Benny. His big eyes were wide with fear, and he was shivering under a bush. \n",
      "\n",
      "“What’s wrong, little friend?” Luna asked softly, kneeling beside him.\n",
      "\n",
      "“I’ve lost my way home,” Benny sniffled, pointing to the thick shadows looming around. “I’m scared of the dark!”\n",
      "\n",
      "Luna smiled gently and lowered her horn, which started to glow, illuminating the glade with a warm, silver light. “Don’t worry, Benny. I’ll help you find your way home.”\n",
      "\n",
      "With that, Luna and Benny ventured into the dark woods. Her glowing horn lit their path, revealing sparkling fireflies that danced around them like tiny stars. They passed wise old owls and sleepy foxes who nodded in approval as they went by.\n",
      "\n",
      "As they walked, Luna shared stories of her adventures, making Benny giggle and forget his fears. She told him about the time she helped a lost bird find its nest and how she had danced with the moonbeams on a clear night.\n",
      "\n",
      "After a while, they reached a cozy burrow at the edge of the forest, adorned with soft moss and bright flowers. “This is my home!” Benny exclaimed, joy sparkling in his eyes.\n",
      "\n",
      "“See? The darkness isn’t so scary with a little light,” Luna said, smiling. \n",
      "\n",
      "Benny gave her a grateful hug. “Thank you, Luna! You’re not just a magical unicorn; you’re my friend.”\n",
      "\n",
      "“Always remember,” Luna replied, “no matter how dark it seems, a little light and friendship can guide you home.”\n",
      "\n",
      "With a final twinkle from her horn, Luna waved goodbye and wandered back into the forest, feeling happy and content. \n",
      "\n",
      "That night, as she settled under a canopy of stars, Luna realized that the greatest magic of all was the joy of helping others and the warmth of friendship.\n",
      "\n",
      "And with a heart full of love, Luna drifted off to sleep, dreaming of all the adventures still to come.\n",
      "\n",
      "### The End.\n"
     ]
    }
   ],
   "source": [
    "response = openai_client.responses.create(\n",
    "    model=\"gpt-4o-mini\",\n",
    "    input=\"Write a short bedtime story about a unicorn\"\n",
    ")\n",
    "\n",
    "print(response.output_text)"
   ]
  },
  {
   "cell_type": "code",
   "execution_count": 4,
   "id": "8080624b-d27a-4df2-a574-e7cd475b14b1",
   "metadata": {},
   "outputs": [
    {
     "name": "stdout",
     "output_type": "stream",
     "text": [
      "Tonight, when the moon was a silver pebble in a velvet sky, a unicorn stepped into a quiet meadow. Her name was Liora, and her mane fell like soft starlight over her shoulders. Wherever her hooves touched the earth, the grass gave a gentle sigh, as if it had been waiting all day for the hush of night.\n",
      "\n",
      "Liora carried no lantern, yet the tip of her horn hummed with a warm glow, the color of cream and honey. She walked slowly so the crickets could keep their steady song, and the little breeze that had lost its way could follow behind like a drowsy kitten. “This way,” she whispered, and the breeze curled into the pines, where the needles shivered happily and then grew still.\n",
      "\n",
      "In the pond beside the meadow, the stars leaned down to sip their own reflections. Liora touched the water, and the ripples spread like rings of a lullaby. A rabbit peered from a blackberry bush, eyes bright and worried. “All is safe,” Liora told it, lowering her head. The rabbit yawned such a big yawn that it slipped out into the night like a silken ribbon. Liora caught the yawn, tucked it into the air, and the meadow breathed deeper. Even the owl on the fence post let its eyes soften, fussing less with its feathers.\n",
      "\n",
      "Fireflies gathered round Liora’s shoulders, little lamps that flickered in time with the unicorn’s quiet heart. One by one, she listened to the day’s last rustles: a leaf settling, a pebble napping, a cloud finishing a long, slow drift. “Rest,” she said, “I will keep the night.”\n",
      "\n",
      "When she came to your window, she did not knock. She only pressed a small circle of light against the glass, like a kiss of moon on water. “Sleep,” the light seemed to say. “The world will remember its turning. The stars know their places. Your dreams know the path.”\n",
      "\n",
      "And somewhere beyond the soft curtain of the dark, Liora walked on, keeping watch, until even the wind closed its eyes and the meadow slept as soundly as you.\n"
     ]
    }
   ],
   "source": [
    "from openai import OpenAI\n",
    "client = OpenAI()\n",
    "\n",
    "response = client.responses.create(\n",
    "    model=\"gpt-5\",\n",
    "    input=\"Write a short bedtime story about a unicorn.\"\n",
    ")\n",
    "\n",
    "print(response.output_text)\n"
   ]
  },
  {
   "cell_type": "code",
   "execution_count": null,
   "id": "cac221d0-fc20-40af-8990-11c9fecf5a86",
   "metadata": {},
   "outputs": [],
   "source": []
  }
 ],
 "metadata": {
  "kernelspec": {
   "display_name": "Python 3 (ipykernel)",
   "language": "python",
   "name": "python3"
  },
  "language_info": {
   "codemirror_mode": {
    "name": "ipython",
    "version": 3
   },
   "file_extension": ".py",
   "mimetype": "text/x-python",
   "name": "python",
   "nbconvert_exporter": "python",
   "pygments_lexer": "ipython3",
   "version": "3.12.1"
  }
 },
 "nbformat": 4,
 "nbformat_minor": 5
}
