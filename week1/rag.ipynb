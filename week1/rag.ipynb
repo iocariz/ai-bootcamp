{
 "cells": [
  {
   "cell_type": "code",
   "execution_count": 26,
   "id": "22b729a5-d8d0-4d22-baad-e7f953f9d310",
   "metadata": {},
   "outputs": [],
   "source": [
    "from openai import OpenAI\n",
    "from minsearch import Index\n",
    "import requests\n",
    "import json\n",
    "openai_client = OpenAI()"
   ]
  },
  {
   "cell_type": "code",
   "execution_count": 27,
   "id": "4f6b7d97-d171-45a7-bbec-c6319d06e1a1",
   "metadata": {},
   "outputs": [],
   "source": [
    "docs_url = 'https://github.com/alexeygrigorev/llm-rag-workshop/raw/main/notebooks/documents.json'\n",
    "docs_response = requests.get(docs_url)\n",
    "documents_raw = docs_response.json()\n",
    "\n",
    "documents = []\n",
    "\n",
    "for course in documents_raw:\n",
    "    course_name = course['course']\n",
    "\n",
    "    for doc in course['documents']:\n",
    "        doc['course'] = course_name\n",
    "        documents.append(doc)"
   ]
  },
  {
   "cell_type": "code",
   "execution_count": 33,
   "id": "4066e4b7-b5c9-48bd-98aa-da23be48cdc1",
   "metadata": {},
   "outputs": [],
   "source": [
    "def search(query):\n",
    "    boost = {'question': 3.0, 'section': 0.5}\n",
    "\n",
    "    results = index.search(\n",
    "        query=query,\n",
    "        filter_dict={'course': 'data-engineering-zoomcamp'},\n",
    "        boost_dict=boost,\n",
    "        num_results=5\n",
    "    )\n",
    "\n",
    "    return resultsa"
   ]
  },
  {
   "cell_type": "code",
   "execution_count": 34,
   "id": "70a7a19e-143f-4141-ab14-d0c63e7d457f",
   "metadata": {},
   "outputs": [],
   "source": [
    "instructions = \"\"\"\n",
    "You're a course teaching assistant. Answer the QUESTION based on the CONTEXT from the FAQ database.\n",
    "Use only the facts from the CONTEXT when answering the QUESTION.\n",
    "\"\"\".strip()\n",
    "\n",
    "prompt_template = \"\"\"\n",
    "<QUESTION>\n",
    "{question}\n",
    "</QUESTION>\n",
    "\n",
    "<CONTEXT>\n",
    "{context}\n",
    "</CONTEXT>\n",
    "\"\"\".strip()\n",
    "\n",
    "def build_prompt(question, search_results):\n",
    "    search_json = json.dumps(search_results)\n",
    "    return prompt_template.format(\n",
    "        question=question,\n",
    "        context=search_json\n",
    "    )\n"
   ]
  },
  {
   "cell_type": "code",
   "execution_count": 35,
   "id": "cfe12f19-109c-47ba-813c-3cf36c73f319",
   "metadata": {},
   "outputs": [],
   "source": [
    "def llm(user_prompt, instructions=None, model=\"gpt-4o-mini\"):\n",
    "    messages = []\n",
    "\n",
    "    if instructions:\n",
    "        messages.append({\n",
    "            \"role\": \"system\",\n",
    "            \"content\": instructions\n",
    "        })\n",
    "\n",
    "    messages.append({\n",
    "        \"role\": \"user\",\n",
    "        \"content\": user_prompt\n",
    "    })\n",
    "\n",
    "    response = openai_client.responses.create(\n",
    "        model=model,\n",
    "        input=messages\n",
    "    )\n",
    "\n",
    "    return response.output_text"
   ]
  },
  {
   "cell_type": "code",
   "execution_count": 36,
   "id": "80db7a83-cb21-4184-b4f0-389396310392",
   "metadata": {},
   "outputs": [],
   "source": [
    "def rag(query):\n",
    "    search_results = search(query)\n",
    "    prompt = build_prompt(query, search_results)\n",
    "    answer = llm(prompt, instructions=instructions)\n",
    "    return answer\n"
   ]
  },
  {
   "cell_type": "code",
   "execution_count": 39,
   "id": "73e738f6-9373-41f0-baf9-7b56fe2bc601",
   "metadata": {},
   "outputs": [],
   "source": [
    "question = 'I just found the course. Can I join now?'"
   ]
  },
  {
   "cell_type": "code",
   "execution_count": 40,
   "id": "f84be2b0-f7cb-4523-afce-5adb26f68d9c",
   "metadata": {},
   "outputs": [
    {
     "data": {
      "text/plain": [
       "\"Yes, you can join the course now. You don't need to register to start learning and submitting homework, but be aware that there will be deadlines for the final projects.\""
      ]
     },
     "execution_count": 40,
     "metadata": {},
     "output_type": "execute_result"
    }
   ],
   "source": [
    "rag(question)"
   ]
  },
  {
   "cell_type": "code",
   "execution_count": null,
   "id": "8b4ac63f-f5c8-49e4-9836-237e0c405add",
   "metadata": {},
   "outputs": [],
   "source": []
  },
  {
   "cell_type": "code",
   "execution_count": null,
   "id": "d6d53d32-1b60-413b-a09c-009cb3db42a7",
   "metadata": {},
   "outputs": [],
   "source": []
  }
 ],
 "metadata": {
  "kernelspec": {
   "display_name": "Python 3 (ipykernel)",
   "language": "python",
   "name": "python3"
  },
  "language_info": {
   "codemirror_mode": {
    "name": "ipython",
    "version": 3
   },
   "file_extension": ".py",
   "mimetype": "text/x-python",
   "name": "python",
   "nbconvert_exporter": "python",
   "pygments_lexer": "ipython3",
   "version": "3.12.1"
  }
 },
 "nbformat": 4,
 "nbformat_minor": 5
}
